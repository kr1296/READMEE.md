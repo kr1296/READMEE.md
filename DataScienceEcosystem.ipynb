{
 "cells": [
  {
   "cell_type": "markdown",
   "id": "598f98b4-2c45-4517-99b6-8bcec3935d05",
   "metadata": {},
   "source": [
    "# Data Science Tools and Ecosystem"
   ]
  },
  {
   "cell_type": "markdown",
   "id": "33bd8d24-33a8-41da-8f7f-c6b900d0d161",
   "metadata": {},
   "source": [
    "In this notebook, Data Science Tools and Ecosystem are summarized."
   ]
  },
  {
   "cell_type": "markdown",
   "id": "827422e7-27fe-4ebd-bf23-89e4c17440c6",
   "metadata": {},
   "source": [
    "**Objectives:**\n",
    "1. List popular languages for Data Science\n",
    "2. List popular libraries for Data Science\n",
    "3. List popular tools for Data Science"
   ]
  },
  {
   "cell_type": "markdown",
   "id": "8980f1c1-094a-4bea-84c4-c638ad93c6dc",
   "metadata": {},
   "source": [
    "Some of the popular languages that Data Scientists use are:"
   ]
  },
  {
   "cell_type": "markdown",
   "id": "7e961574-3595-47b7-b1d6-fd6fc9bd9c7f",
   "metadata": {},
   "source": [
    "1. R\n",
    "2. Python\n",
    "3. SQL"
   ]
  },
  {
   "cell_type": "markdown",
   "id": "643a2601-0d12-401b-a64e-4a6cb5f9c8d5",
   "metadata": {},
   "source": [
    "Some of the commonly used libraries used by Data Scientists include:"
   ]
  },
  {
   "cell_type": "markdown",
   "id": "20439d59-44e3-4d3c-8e4f-972cd3620240",
   "metadata": {},
   "source": [
    "1. plotly\n",
    "2. Scikit-learn\n",
    "3. Pandas\n",
    "4. Numpy\n",
    "5. ggplot\n",
    "6. tensorflow\n"
   ]
  },
  {
   "cell_type": "markdown",
   "id": "fae342a6-ef66-41c0-a11e-dacc2383040e",
   "metadata": {},
   "source": [
    "|Data Science Tools|\n",
    "------------------\n",
    "|Jupyter notebook|\n",
    "|Pytorch|\n",
    "|Hadoop|\n",
    "|Apache spark|"
   ]
  },
  {
   "cell_type": "markdown",
   "id": "510540f2-c59d-4a5a-81b3-aef0e41f3a61",
   "metadata": {},
   "source": [
    "### Below are a few examples of evaluating arithmetic expressions in Python"
   ]
  },
  {
   "cell_type": "code",
   "execution_count": 21,
   "id": "da783141-db07-49b3-830d-81ecae86d4d3",
   "metadata": {},
   "outputs": [
    {
     "data": {
      "text/plain": [
       "17"
      ]
     },
     "execution_count": 21,
     "metadata": {},
     "output_type": "execute_result"
    }
   ],
   "source": [
    "#This a simple arithmetic expression to mutiply then add integers\n",
    "(3*4)+5"
   ]
  },
  {
   "cell_type": "code",
   "execution_count": 23,
   "id": "370a9dd6-2ad0-4a1a-8ca4-ad7755d70c6d",
   "metadata": {},
   "outputs": [
    {
     "data": {
      "text/plain": [
       "3.3333333333333335"
      ]
     },
     "execution_count": 23,
     "metadata": {},
     "output_type": "execute_result"
    }
   ],
   "source": [
    "#This will convert 200 minutes to hours by diving by 60\n",
    "200/60"
   ]
  },
  {
   "cell_type": "markdown",
   "id": "2da3927a-7422-49b7-8f9e-2ea9b3d83bbe",
   "metadata": {},
   "source": [
    "## Author\n",
    "Name: Carlos San Martín Roa"
   ]
  },
  {
   "cell_type": "code",
   "execution_count": null,
   "id": "18b9531b-a3c8-4a1b-932c-2cd92f576af6",
   "metadata": {},
   "outputs": [],
   "source": []
  }
 ],
 "metadata": {
  "kernelspec": {
   "display_name": "Python 3 (ipykernel)",
   "language": "python",
   "name": "python3"
  },
  "language_info": {
   "codemirror_mode": {
    "name": "ipython",
    "version": 3
   },
   "file_extension": ".py",
   "mimetype": "text/x-python",
   "name": "python",
   "nbconvert_exporter": "python",
   "pygments_lexer": "ipython3",
   "version": "3.12.4"
  }
 },
 "nbformat": 4,
 "nbformat_minor": 5
}
